{
 "cells": [
  {
   "cell_type": "code",
   "execution_count": 1,
   "metadata": {},
   "outputs": [],
   "source": [
    "import pyugo_db"
   ]
  },
  {
   "cell_type": "code",
   "execution_count": 8,
   "metadata": {},
   "outputs": [],
   "source": [
    "import urllib.parse as urlparse"
   ]
  },
  {
   "cell_type": "markdown",
   "metadata": {},
   "source": [
    "# 概要\n",
    "yugipedia.com/wiki にアクセスし、カードテキストを取得する流れを検証。\n",
    "\n",
    "ルートURL: https://yugipedia.com/wiki\n",
    "\n",
    "## 内容\n",
    "\n",
    "1. URLを組み立てて、カードページにアクセス\n",
    "3. カードページからテキスト部分を取得\n",
    "\n",
    "## 注意\n",
    "アクセスするときは、pyugo_db.crawlers.base.YGOCrawlerBaseを必ず使うこと"
   ]
  },
  {
   "cell_type": "code",
   "execution_count": 3,
   "metadata": {},
   "outputs": [],
   "source": [
    "from pyugo_db.settings import PYUGO_DB_LIST_CRAWLING_ROOT_URL"
   ]
  },
  {
   "cell_type": "code",
   "execution_count": 4,
   "metadata": {},
   "outputs": [],
   "source": [
    "from pyugo_db.crawlers.base import YGOCrawlerBase"
   ]
  },
  {
   "cell_type": "code",
   "execution_count": 5,
   "metadata": {},
   "outputs": [],
   "source": [
    "crawler = YGOCrawlerBase()"
   ]
  },
  {
   "cell_type": "code",
   "execution_count": 184,
   "metadata": {},
   "outputs": [],
   "source": [
    "def skip_rb(root_elm):\n",
    "    text = ''\n",
    "    for elm in root_elm.children:\n",
    "        if isinstance(elm, Tag) and (elm.name == 'rb'):\n",
    "            text += ''.join([e for e in elm.children if isinstance(e, str)])\n",
    "        elif isinstance(elm, str):\n",
    "            text += elm\n",
    "    return text"
   ]
  },
  {
   "cell_type": "markdown",
   "metadata": {},
   "source": [
    "### 1. カードページへのアクセス"
   ]
  },
  {
   "cell_type": "code",
   "execution_count": 7,
   "metadata": {},
   "outputs": [],
   "source": [
    "card_name = 'オベリスクの巨神兵'\n",
    "card_no = 'MVPY-JP001'"
   ]
  },
  {
   "cell_type": "code",
   "execution_count": 16,
   "metadata": {},
   "outputs": [],
   "source": [
    "search_html = crawler.get_html('https://yugipedia.com/wiki' + '/' + card_no)"
   ]
  },
  {
   "cell_type": "code",
   "execution_count": 18,
   "metadata": {},
   "outputs": [],
   "source": [
    "card_attributes_elm = search_html.find('div', class_='card-table')"
   ]
  },
  {
   "cell_type": "code",
   "execution_count": 197,
   "metadata": {},
   "outputs": [],
   "source": [
    "card_name_elm = card_attributes_elm.find('span', class_='nowrap', attrs={'lang': 'ja'})\n",
    "japanese_card_name = ''.join([v if isinstance(v, str) else skip_rb(v) for v in card_name_elm.children])\n",
    "if card_attributes_elm.find('span', class_='nowrap', attrs={'lang': 'ja-Hrkt'}) is None:\n",
    "    japanese_card_kana = japanese_card_name\n",
    "else:\n",
    "    japanese_card_kana = card_attributes_elm.find('span', class_='nowrap', attrs={'lang': 'ja-Hrkt'}).text"
   ]
  },
  {
   "cell_type": "code",
   "execution_count": 198,
   "metadata": {},
   "outputs": [
    {
     "data": {
      "text/plain": [
       "('オベリスクの巨神兵', 'オベリスクのきょしんへい')"
      ]
     },
     "execution_count": 198,
     "metadata": {},
     "output_type": "execute_result"
    }
   ],
   "source": [
    "japanese_card_name, japanese_card_kana"
   ]
  },
  {
   "cell_type": "code",
   "execution_count": 100,
   "metadata": {},
   "outputs": [],
   "source": [
    "info_table = card_attributes_elm.find('div', class_='infocolumn').find('table')"
   ]
  },
  {
   "cell_type": "code",
   "execution_count": 102,
   "metadata": {},
   "outputs": [],
   "source": [
    "info_rows = info_table.find_all('tr')"
   ]
  },
  {
   "cell_type": "code",
   "execution_count": 142,
   "metadata": {},
   "outputs": [],
   "source": [
    "info_label_values = {}\n",
    "for info_row in info_rows:\n",
    "    if info_row.find('th') is None:\n",
    "        continue\n",
    "    \n",
    "    info_labels = [e.text for e in info_row.find('th').find_all('a') if e.text != '']\n",
    "    \n",
    "    if len(info_labels) == 0:\n",
    "        continue\n",
    "    \n",
    "    info_label = info_labels[0]\n",
    "    info_values = [e.text for e in info_row.find('td').find_all('a') if e.text != '']\n",
    "    \n",
    "    info_label_values[info_label] = info_values"
   ]
  },
  {
   "cell_type": "code",
   "execution_count": 143,
   "metadata": {},
   "outputs": [],
   "source": [
    "# 種類\n",
    "card_type = None\n",
    "\n",
    "# 属性\n",
    "card_attr = None\n",
    "# 種族\n",
    "type_ = None\n",
    "\n",
    "# monster type\n",
    "## 効果\n",
    "has_effect = False\n",
    "## ペンデュラム\n",
    "is_pendulum = False\n",
    "\n",
    "# monster card types\n",
    "## 融合\n",
    "is_fusion = False\n",
    "## 儀式\n",
    "is_ritual = False\n",
    "## シンクロ\n",
    "is_synchro = False\n",
    "## エクシーズ\n",
    "is_xyz = False\n",
    "## リンク\n",
    "is_link = False\n",
    "\n",
    "# monster subtypes\n",
    "## チューナー\n",
    "is_tuner = False\n",
    "## トゥーン\n",
    "is_toon = False\n",
    "## ユニオン\n",
    "is_union = False\n",
    "## スピリット\n",
    "is_sprit = False\n",
    "## デュアル\n",
    "is_gemini = False\n",
    "\n",
    "# レベル\n",
    "level = None\n",
    "# ランク\n",
    "rank = None\n",
    "# リンクマーカー\n",
    "link_arrows = None\n",
    "# 攻撃力\n",
    "attack = None\n",
    "# 守備力\n",
    "defense = None\n",
    "# リンク\n",
    "link = None\n",
    "\n",
    "# property\n",
    "## 通常魔法\n",
    "is_normal_spell = False\n",
    "## 永続魔法\n",
    "is_continuous_spell = False\n",
    "## フィールド魔法\n",
    "is_field_spell = False\n",
    "## 速攻魔法\n",
    "is_quick_play_spell = False\n",
    "## 装備魔法\n",
    "is_equip_spell = False\n",
    "## 儀式魔法\n",
    "is_ritual_spell = False\n",
    "## 通常トラップ\n",
    "is_normal_trap = False\n",
    "## 永続トラップ\n",
    "is_continuous_trap = False\n",
    "## 通常トラップ\n",
    "is_counter_trap = False\n",
    "\n",
    "# パスワード\n",
    "password = None\n",
    "# ステータス\n",
    "status = None"
   ]
  },
  {
   "cell_type": "code",
   "execution_count": 144,
   "metadata": {},
   "outputs": [],
   "source": [
    "def get_and_drop(dic, k):\n",
    "    v = dic[k]\n",
    "    del dic[k]\n",
    "    return v\n",
    "\n",
    "def get_and_drop_assert1(dic, k):\n",
    "    l = get_and_drop(dic, k)\n",
    "    assert len(l) == 1\n",
    "    return l[0]\n",
    "\n",
    "def get_and_drop_nullable(dic, k):\n",
    "    l = get_and_drop(dic, k)\n",
    "    if len(l) == 0:\n",
    "        return '-'\n",
    "    else:\n",
    "        assert len(l) == 1\n",
    "        return l[0]\n",
    "\n",
    "def check_and_drop(l: list, v):\n",
    "    result = v in l\n",
    "    if result:\n",
    "        l.remove(v)\n",
    "    return result"
   ]
  },
  {
   "cell_type": "code",
   "execution_count": 145,
   "metadata": {},
   "outputs": [],
   "source": [
    "dic = dict(info_label_values)\n",
    "card_type = get_and_drop_assert1(dic, 'Card type')\n",
    "\n",
    "if card_type == 'Spell':\n",
    "    prop = get_and_drop_assert1(dic, 'Property')\n",
    "    if prop == 'Normal':\n",
    "        is_normal_spell = True\n",
    "    elif prop == 'Continuous':\n",
    "        is_continuous_spell = True\n",
    "    elif prop == 'Field':\n",
    "        is_field_spell = True\n",
    "    elif prop == 'Equip':\n",
    "        is_equip_spell = True\n",
    "    elif prop == 'Quick-Play':\n",
    "        is_quick_play_spell = True\n",
    "    elif prop == 'Ritual':\n",
    "        is_ritual_spell = True\n",
    "    else:\n",
    "        assert False,  (card_type, prop)\n",
    "elif card_type == 'Trap':\n",
    "    prop = get_and_drop_assert1(dic, 'Property')\n",
    "    if prop == 'Normal':\n",
    "        is_normal_trap = True\n",
    "    elif prop == 'Continuous':\n",
    "        is_continuous_trap = True\n",
    "    elif prop == 'Counter':\n",
    "        is_field_trap = True\n",
    "    else:\n",
    "        assert False, (card_type, prop)\n",
    "elif card_type == 'Monster':\n",
    "    types = get_and_drop(dic, 'Types')\n",
    "    type_ = types.pop(0)\n",
    "    card_attr = get_and_drop_assert1(dic, 'Attribute')\n",
    "    if check_and_drop(types, 'Effect'):\n",
    "        has_effect = True\n",
    "    if check_and_drop(types, 'Pendulum'):\n",
    "        is_pendulum = True\n",
    "    if check_and_drop(types, 'Fusion'):\n",
    "        is_fusion = True\n",
    "    if check_and_drop(types, 'Ritual'):\n",
    "        is_ritual = True\n",
    "    if check_and_drop(types, 'Synchro'):\n",
    "        is_synchro = True\n",
    "    if check_and_drop(types, 'Xyz'):\n",
    "        is_xyz = True\n",
    "    if check_and_drop(types, 'Link'):\n",
    "        is_link = True\n",
    "    if check_and_drop(types, 'Tuner'):\n",
    "        is_tuner = True\n",
    "    if check_and_drop(types, 'Union'):\n",
    "        is_union = True\n",
    "    if check_and_drop(types, 'Toon'):\n",
    "        is_toon = True\n",
    "    if check_and_drop(types, 'Spirit'):\n",
    "        is_spirit = True\n",
    "    if check_and_drop(types, 'Gemini'):\n",
    "        is_gemini = True\n",
    "    assert len(types) == 0, types\n",
    "    \n",
    "    if is_link:\n",
    "        link_arrows = ','.join(get_and_drop(dic, 'Link Arrows'))\n",
    "    elif is_xyz:\n",
    "        rank = get_and_drop_assert1(dic, 'Rank')\n",
    "    else:\n",
    "        level = get_and_drop_assert1(dic, 'Level')\n",
    "    \n",
    "    if is_link:\n",
    "        attack, link = get_and_drop(dic, 'ATK')\n",
    "    else:\n",
    "        attack, defense = get_and_drop(dic, 'ATK')\n",
    "    password = get_and_drop_nullable(dic, 'Password')\n",
    "    status_all: list = get_and_drop(dic, 'Status')\n",
    "    try:\n",
    "        ocg_idx = status_all.index('OCG')\n",
    "        status = status_all[ocg_idx - 1]\n",
    "    except:\n",
    "        pass\n",
    "\n",
    "    assert len(dic) == 0, dic"
   ]
  },
  {
   "cell_type": "code",
   "execution_count": 124,
   "metadata": {},
   "outputs": [
    {
     "data": {
      "text/plain": [
       "'Divine-Beast'"
      ]
     },
     "execution_count": 124,
     "metadata": {},
     "output_type": "execute_result"
    }
   ],
   "source": []
  },
  {
   "cell_type": "code",
   "execution_count": 188,
   "metadata": {},
   "outputs": [],
   "source": [
    "name_and_text = list(search_html.find('th', text='Japanese').parent.find_all('td'))\n",
    "\n",
    "assert len(name_and_text) in (2, 3)\n",
    "card_text = ''.join([v if isinstance(v, str) else skip_rb(v) for v in name_and_text[1].children])\n",
    "pendulum_text = None\n",
    "if len(name_and_text) == 3:\n",
    "    assert is_pendulum\n",
    "    pendulum_text = ''.join([v if isinstance(v, str) else skip_rb(v) for v in name_and_text[2].children])"
   ]
  },
  {
   "cell_type": "code",
   "execution_count": 189,
   "metadata": {},
   "outputs": [
    {
     "data": {
      "text/plain": [
       "'このカードを通常召喚する場合、３体をリリースして召喚しなければならない。①：このカードの召喚は無効化されない。②：このカードの召喚成功時には、魔法・罠・モンスターの効果は発動できない。③：このカードは効果の対象にならない。④：自分フィールドのモンスター２体をリリースして発動できる。相手フィールドのモンスターを全て破壊する。この効果を発動するターン、このカードは攻撃宣言できない。⑤：このカードが特殊召喚されている場合、エンドフェイズに発動する。このカードを墓地へ送る。'"
      ]
     },
     "execution_count": 189,
     "metadata": {},
     "output_type": "execute_result"
    }
   ],
   "source": [
    "card_text"
   ]
  },
  {
   "cell_type": "code",
   "execution_count": null,
   "metadata": {},
   "outputs": [],
   "source": []
  }
 ],
 "metadata": {
  "kernelspec": {
   "display_name": "Python 3",
   "language": "python",
   "name": "python3"
  },
  "language_info": {
   "codemirror_mode": {
    "name": "ipython",
    "version": 3
   },
   "file_extension": ".py",
   "mimetype": "text/x-python",
   "name": "python",
   "nbconvert_exporter": "python",
   "pygments_lexer": "ipython3",
   "version": "3.7.4"
  }
 },
 "nbformat": 4,
 "nbformat_minor": 4
}
