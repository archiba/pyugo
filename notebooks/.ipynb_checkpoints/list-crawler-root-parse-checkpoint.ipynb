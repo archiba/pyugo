{
 "cells": [
  {
   "cell_type": "code",
   "execution_count": 1,
   "metadata": {},
   "outputs": [],
   "source": [
    "import pyugo_db"
   ]
  },
  {
   "cell_type": "code",
   "execution_count": 86,
   "metadata": {},
   "outputs": [],
   "source": [
    "from bs4.element import Tag"
   ]
  },
  {
   "cell_type": "markdown",
   "metadata": {},
   "source": [
    "# 概要\n",
    "ocg-card.comからカードリストを取得する一連の流れを検証。\n",
    "\n",
    "ルートURL: https://ocg-card.com/list/\n",
    "\n",
    "## 内容\n",
    "\n",
    "1. ルートURLから、シリーズの一覧を取得する。\n",
    "\n",
    "## 注意\n",
    "アクセスするときは、pyugo_db.crawlers.base.YGOCrawlerBaseを必ず使うこと"
   ]
  },
  {
   "cell_type": "code",
   "execution_count": 2,
   "metadata": {},
   "outputs": [],
   "source": [
    "from pyugo_db.settings import PYUGO_DB_LIST_CRAWLING_ROOT_URL"
   ]
  },
  {
   "cell_type": "code",
   "execution_count": 3,
   "metadata": {},
   "outputs": [],
   "source": [
    "from pyugo_db.crawlers.base import YGOCrawlerBase"
   ]
  },
  {
   "cell_type": "code",
   "execution_count": 4,
   "metadata": {},
   "outputs": [],
   "source": [
    "crawler = YGOCrawlerBase()"
   ]
  },
  {
   "cell_type": "markdown",
   "metadata": {},
   "source": [
    "### 1. パックの一覧取得"
   ]
  },
  {
   "cell_type": "code",
   "execution_count": 5,
   "metadata": {},
   "outputs": [],
   "source": [
    "root_html = crawler.get_html('https://ocg-card.com/list/')"
   ]
  },
  {
   "cell_type": "code",
   "execution_count": 7,
   "metadata": {},
   "outputs": [],
   "source": [
    "series_titles = root_html.find_all('dt', class_='list-series-title')"
   ]
  },
  {
   "cell_type": "code",
   "execution_count": 23,
   "metadata": {},
   "outputs": [],
   "source": [
    "pack_links = []\n",
    "for series_title in series_titles:\n",
    "    packs_in_series = series_title.parent.find('dd').find_all('a')\n",
    "    pack_links_in_series = [pack_elm.attrs['href'] for pack_elm in packs_in_series if not pack_elm.attrs['href'].startswith('#')]\n",
    "    pack_links.extend(pack_links_in_series)\n",
    "\n",
    "unique_pack_links = set(pack_links)"
   ]
  },
  {
   "cell_type": "markdown",
   "metadata": {},
   "source": [
    "### 2. カードリスト一覧の取得"
   ]
  },
  {
   "cell_type": "code",
   "execution_count": 24,
   "metadata": {},
   "outputs": [],
   "source": [
    "pack_link = pack_links[5]"
   ]
  },
  {
   "cell_type": "code",
   "execution_count": 27,
   "metadata": {},
   "outputs": [],
   "source": [
    "pack_html = crawler.get_html('https://ocg-card.com' + pack_link)"
   ]
  },
  {
   "cell_type": "code",
   "execution_count": 43,
   "metadata": {},
   "outputs": [],
   "source": [
    "pack_title = pack_html.find('h1', class_='entry-title').text.strip()"
   ]
  },
  {
   "cell_type": "code",
   "execution_count": 44,
   "metadata": {},
   "outputs": [
    {
     "data": {
      "text/plain": [
       "'STRUCTURE DECK 混沌の三幻魔'"
      ]
     },
     "execution_count": 44,
     "metadata": {},
     "output_type": "execute_result"
    }
   ],
   "source": [
    "pack_title"
   ]
  },
  {
   "cell_type": "code",
   "execution_count": 45,
   "metadata": {},
   "outputs": [],
   "source": [
    "card_list = pack_html.find('div', id='list')"
   ]
  },
  {
   "cell_type": "code",
   "execution_count": 110,
   "metadata": {},
   "outputs": [],
   "source": [
    "card_infos = card_list.find_all('tr', class_='status-height')\n",
    "card_name_classes = ['n-mon', 'e-mon', 's-mon', 'x-mon', 'r-mon', 'l-mon', 'f-mon', 'p-mon', 'magic', 'trap']\n",
    "pass_classes = ['card-pass', 'non-stts']"
   ]
  },
  {
   "cell_type": "code",
   "execution_count": 111,
   "metadata": {},
   "outputs": [],
   "source": [
    "card_info = card_infos[0]"
   ]
  },
  {
   "cell_type": "code",
   "execution_count": 112,
   "metadata": {},
   "outputs": [],
   "source": [
    "card_no = card_info.find('td', class_='card-number').text"
   ]
  },
  {
   "cell_type": "code",
   "execution_count": 113,
   "metadata": {},
   "outputs": [],
   "source": [
    "card_name_elm = [card_info.find(class_=c) for c in card_name_classes if card_info.find(class_=c) is not None][0]"
   ]
  },
  {
   "cell_type": "code",
   "execution_count": 117,
   "metadata": {},
   "outputs": [],
   "source": [
    "password = [card_info.find('td', class_=c) for c in pass_classes if card_info.find('td', class_=c) is not None][0].text"
   ]
  },
  {
   "cell_type": "code",
   "execution_count": 118,
   "metadata": {},
   "outputs": [],
   "source": [
    "card_name = ''\n",
    "for name_elm in card_name_elm.children:\n",
    "    if isinstance(name_elm, Tag) and (name_elm.name == 'ruby'):\n",
    "        card_name += ''.join([e for e in name_elm.children if isinstance(e, str)])\n",
    "    elif isinstance(name_elm, str):\n",
    "        card_name += name_elm"
   ]
  },
  {
   "cell_type": "code",
   "execution_count": 119,
   "metadata": {},
   "outputs": [
    {
     "data": {
      "text/plain": [
       "('SD38-JP001', '幻魔皇ラビエル－天界蹂躙拳', '-')"
      ]
     },
     "execution_count": 119,
     "metadata": {},
     "output_type": "execute_result"
    }
   ],
   "source": [
    "card_no, card_name, password"
   ]
  },
  {
   "cell_type": "code",
   "execution_count": null,
   "metadata": {},
   "outputs": [],
   "source": []
  }
 ],
 "metadata": {
  "kernelspec": {
   "display_name": "Python 3",
   "language": "python",
   "name": "python3"
  },
  "language_info": {
   "codemirror_mode": {
    "name": "ipython",
    "version": 3
   },
   "file_extension": ".py",
   "mimetype": "text/x-python",
   "name": "python",
   "nbconvert_exporter": "python",
   "pygments_lexer": "ipython3",
   "version": "3.7.4"
  }
 },
 "nbformat": 4,
 "nbformat_minor": 4
}
