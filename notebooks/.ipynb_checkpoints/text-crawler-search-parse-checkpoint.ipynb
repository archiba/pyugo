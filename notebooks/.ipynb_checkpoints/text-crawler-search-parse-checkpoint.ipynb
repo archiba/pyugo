{
 "cells": [
  {
   "cell_type": "code",
   "execution_count": 1,
   "metadata": {},
   "outputs": [],
   "source": [
    "import pyugo_db"
   ]
  },
  {
   "cell_type": "code",
   "execution_count": 8,
   "metadata": {},
   "outputs": [],
   "source": [
    "import urllib.parse as urlparse"
   ]
  },
  {
   "cell_type": "markdown",
   "metadata": {},
   "source": [
    "# 概要\n",
    "yugipedia.com/wiki にアクセスし、カードテキストを取得する流れを検証。\n",
    "\n",
    "ルートURL: https://yugipedia.com/wiki\n",
    "\n",
    "## 内容\n",
    "\n",
    "1. URLを組み立てて、カードページにアクセス\n",
    "3. カードページからテキスト部分を取得\n",
    "\n",
    "## 注意\n",
    "アクセスするときは、pyugo_db.crawlers.base.YGOCrawlerBaseを必ず使うこと"
   ]
  },
  {
   "cell_type": "code",
   "execution_count": 3,
   "metadata": {},
   "outputs": [],
   "source": [
    "from pyugo_db.settings import PYUGO_DB_LIST_CRAWLING_ROOT_URL"
   ]
  },
  {
   "cell_type": "code",
   "execution_count": 4,
   "metadata": {},
   "outputs": [],
   "source": [
    "from pyugo_db.crawlers.base import YGOCrawlerBase"
   ]
  },
  {
   "cell_type": "code",
   "execution_count": 5,
   "metadata": {},
   "outputs": [],
   "source": [
    "crawler = YGOCrawlerBase()"
   ]
  },
  {
   "cell_type": "code",
   "execution_count": 20,
   "metadata": {},
   "outputs": [],
   "source": [
    "def skip_rb(root_elm):\n",
    "    text = ''\n",
    "    for elm in root_elm.children:\n",
    "        if isinstance(elm, Tag) and (elm.name == 'ruby'):\n",
    "            card_name += ''.join([e for e in elm.children if isinstance(e, str)])\n",
    "        elif isinstance(elm, str):\n",
    "            card_name += elm"
   ]
  },
  {
   "cell_type": "markdown",
   "metadata": {},
   "source": [
    "### 1. カードページへのアクセス"
   ]
  },
  {
   "cell_type": "code",
   "execution_count": 7,
   "metadata": {},
   "outputs": [],
   "source": [
    "card_name = 'オベリスクの巨神兵'\n",
    "card_no = 'MVPY-JP001'"
   ]
  },
  {
   "cell_type": "code",
   "execution_count": 16,
   "metadata": {},
   "outputs": [],
   "source": [
    "search_html = crawler.get_html('https://yugipedia.com/wiki' + '/' + card_no)"
   ]
  },
  {
   "cell_type": "code",
   "execution_count": 18,
   "metadata": {},
   "outputs": [],
   "source": [
    "card_attributes_elm = search_html.find('div', class_='card-table')"
   ]
  },
  {
   "cell_type": "code",
   "execution_count": 98,
   "metadata": {},
   "outputs": [],
   "source": [
    "japanese_card_name = card_attributes_elm.find('span', class_='nowrap', attrs={'lang': 'ja-Jpan'}).text\n",
    "if card_attributes_elm.find('span', class_='nowrap', attrs={'lang': 'ja-Hrkt'}) is None:\n",
    "    japanese_card_kana = japanese_card_name\n",
    "else:\n",
    "    japanese_card_kana = card_attributes_elm.find('span', class_='nowrap', attrs={'lang': 'ja-Hrkt'}).text"
   ]
  },
  {
   "cell_type": "code",
   "execution_count": 99,
   "metadata": {},
   "outputs": [
    {
     "data": {
      "text/plain": [
       "('オベリスクの巨神兵', 'オベリスクのきょしんへい')"
      ]
     },
     "execution_count": 99,
     "metadata": {},
     "output_type": "execute_result"
    }
   ],
   "source": [
    "japanese_card_name, japanese_card_kana"
   ]
  },
  {
   "cell_type": "code",
   "execution_count": 100,
   "metadata": {},
   "outputs": [],
   "source": [
    "info_table = card_attributes_elm.find('div', class_='infocolumn').find('table')"
   ]
  },
  {
   "cell_type": "code",
   "execution_count": 102,
   "metadata": {},
   "outputs": [],
   "source": [
    "info_rows = info_table.find_all('tr')"
   ]
  },
  {
   "cell_type": "code",
   "execution_count": 109,
   "metadata": {},
   "outputs": [
    {
     "name": "stdout",
     "output_type": "stream",
     "text": [
      "Card type ['Monster']\n",
      "Attribute ['DIVINE']\n",
      "Types ['Divine-Beast', 'Effect']\n",
      "Level ['10']\n",
      "ATK ['4000', '4000']\n",
      "Password []\n",
      "Status ['Unlimited', 'OCG', 'Unlimited', 'TCG']\n"
     ]
    }
   ],
   "source": [
    "# 種類\n",
    "card_type = None\n",
    "\n",
    "# 属性\n",
    "card_attr = None\n",
    "# 種族\n",
    "type_ = None\n",
    "\n",
    "# monster type\n",
    "## 効果\n",
    "has_effect = False\n",
    "## ペンデュラム\n",
    "is_pendulum = False\n",
    "\n",
    "# monster card types\n",
    "## 融合\n",
    "is_fusion = False\n",
    "## 儀式\n",
    "is_ritual = False\n",
    "## シンクロ\n",
    "is_synchro = False\n",
    "## エクシーズ\n",
    "is_xyz = False\n",
    "## リンク\n",
    "is_link = False\n",
    "\n",
    "# monster subtypes\n",
    "## チューナー\n",
    "is_tuner = False\n",
    "## トゥーン\n",
    "is_toon = False\n",
    "## ユニオン\n",
    "is_union = False\n",
    "## スピリット\n",
    "is_sprit = False\n",
    "## デュアル\n",
    "is_gemini = False\n",
    "\n",
    "# レベル\n",
    "level = None\n",
    "# ランク\n",
    "rank = None\n",
    "# リンクマーカー\n",
    "link_arrows = None\n",
    "\n",
    "# property\n",
    "## 永続\n",
    "is_continuous = False\n",
    "is_field = False\n",
    "is_quick_play = False\n",
    "\n",
    "for info_row in info_rows:\n",
    "    if info_row.find('th') is None:\n",
    "        continue\n",
    "    \n",
    "    info_labels = [e.text for e in info_row.find('th').find_all('a') if e.text != '']\n",
    "    \n",
    "    if len(info_labels) == 0:\n",
    "        continue\n",
    "    info_label = info_labels[0]\n",
    "    \n",
    "    info_values = [e.text for e in info_row.find('td').find_all('a') if e.text != '']\n",
    "    \n",
    "    print(info_label, info_values)\n",
    "    \n",
    "    if info_label == 'Card type':\n",
    "        card_type = info_values[0]\n",
    "    if info_label == 'Attribute':\n",
    "        card_attr = info_values[0]\n",
    "    if info_label == 'Types':\n",
    "        if ''"
   ]
  },
  {
   "cell_type": "code",
   "execution_count": 110,
   "metadata": {},
   "outputs": [
    {
     "data": {
      "text/plain": [
       "['Monster']"
      ]
     },
     "execution_count": 110,
     "metadata": {},
     "output_type": "execute_result"
    }
   ],
   "source": [
    "card_type"
   ]
  },
  {
   "cell_type": "code",
   "execution_count": null,
   "metadata": {},
   "outputs": [],
   "source": []
  }
 ],
 "metadata": {
  "kernelspec": {
   "display_name": "Python 3",
   "language": "python",
   "name": "python3"
  },
  "language_info": {
   "codemirror_mode": {
    "name": "ipython",
    "version": 3
   },
   "file_extension": ".py",
   "mimetype": "text/x-python",
   "name": "python",
   "nbconvert_exporter": "python",
   "pygments_lexer": "ipython3",
   "version": "3.7.4"
  }
 },
 "nbformat": 4,
 "nbformat_minor": 4
}
